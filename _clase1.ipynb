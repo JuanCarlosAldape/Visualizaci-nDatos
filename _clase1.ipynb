{
 "cells": [
  {
   "cell_type": "markdown",
   "id": "57d6f30d-9a21-4d8b-8ba0-983324805706",
   "metadata": {},
   "source": [
    "# Clase 1 cargando la libreria"
   ]
  },
  {
   "cell_type": "code",
   "execution_count": 2,
   "id": "9f58b0c0-ee57-4061-bcf2-c35a1b47f6e6",
   "metadata": {},
   "outputs": [
    {
     "name": "stdout",
     "output_type": "stream",
     "text": [
      "hola\n"
     ]
    }
   ],
   "source": [
    "print('hola')\n"
   ]
  },
  {
   "cell_type": "markdown",
   "id": "66e53bbf-bac4-4b3a-8def-5a3377ce9933",
   "metadata": {},
   "source": [
    "# Importar libreria"
   ]
  },
  {
   "cell_type": "code",
   "execution_count": 4,
   "id": "9fc68baf-9c28-40ea-ae1c-226ca0a040a6",
   "metadata": {},
   "outputs": [],
   "source": [
    "import numpy as np"
   ]
  },
  {
   "cell_type": "code",
   "execution_count": 6,
   "id": "5908cae1-d90b-44c7-895e-7ec55b6e360f",
   "metadata": {},
   "outputs": [
    {
     "data": {
      "text/plain": [
       "array([0.68785362, 0.87534506, 0.41176415, 0.64417975, 0.5489828 ,\n",
       "       0.01311933, 0.38461906, 0.45468065, 0.93724903, 0.35081251,\n",
       "       0.03018097, 0.52357509, 0.45231136, 0.84902507, 0.55204806,\n",
       "       0.67094027, 0.27113902, 0.17640785, 0.60774667, 0.12630934,\n",
       "       0.42696622, 0.36864332, 0.60387762, 0.24256812, 0.31933161,\n",
       "       0.56305667, 0.62357092, 0.77286884, 0.96225013, 0.97408144,\n",
       "       0.60270641, 0.69024028, 0.13012736, 0.73353886, 0.06603203,\n",
       "       0.91545557, 0.26195858, 0.53047463, 0.91434717, 0.81057761,\n",
       "       0.7710093 , 0.39891958, 0.99828719, 0.10757001, 0.79424535,\n",
       "       0.70251921, 0.35349975, 0.7012537 , 0.73035427, 0.12234391])"
      ]
     },
     "execution_count": 6,
     "metadata": {},
     "output_type": "execute_result"
    }
   ],
   "source": [
    "x = 50\n",
    "y = np.random.rand(x)\n",
    "y"
   ]
  },
  {
   "cell_type": "code",
   "execution_count": 7,
   "id": "7e6fa723-7a06-43bc-9540-5a2027373006",
   "metadata": {},
   "outputs": [
    {
     "name": "stdout",
     "output_type": "stream",
     "text": [
      "00_00_binder.ipynb                    02_02_basic_math.ipynb\n",
      "00_00_primer_pasos.ipynb              \u001b[0m\u001b[01;34mdatasets\u001b[0m/\n",
      "01_01_data_types.ipynb                README.md\n",
      "01_02_read_iloc_unique_groupby.ipynb  requirements.txt\n",
      "02_00_data_wrangling.ipynb            Untitled.ipynb\n",
      "02_01_null_display.ipynb\n"
     ]
    }
   ],
   "source": [
    "%ls"
   ]
  },
  {
   "cell_type": "markdown",
   "id": "c0ea0d37-3d51-4bf6-98f4-16f692b886cb",
   "metadata": {},
   "source": [
    "# Tipos de datos"
   ]
  },
  {
   "cell_type": "code",
   "execution_count": 8,
   "id": "939b2734-b321-403d-92b7-376ec00533b3",
   "metadata": {},
   "outputs": [],
   "source": [
    "import math"
   ]
  },
  {
   "cell_type": "code",
   "execution_count": 9,
   "id": "6edac426-36a8-4710-9841-6b0fcad51a46",
   "metadata": {},
   "outputs": [
    {
     "data": {
      "text/plain": [
       "int"
      ]
     },
     "execution_count": 9,
     "metadata": {},
     "output_type": "execute_result"
    }
   ],
   "source": [
    "type(4)"
   ]
  },
  {
   "cell_type": "code",
   "execution_count": 10,
   "id": "d82bd6ee-4c00-4153-b1a9-fd242a871efc",
   "metadata": {},
   "outputs": [
    {
     "data": {
      "text/plain": [
       "float"
      ]
     },
     "execution_count": 10,
     "metadata": {},
     "output_type": "execute_result"
    }
   ],
   "source": [
    "type(4.0)\n"
   ]
  },
  {
   "cell_type": "code",
   "execution_count": 11,
   "id": "940e315a-03cb-440c-896d-4b90fc4ec720",
   "metadata": {},
   "outputs": [
    {
     "data": {
      "text/plain": [
       "int"
      ]
     },
     "execution_count": 11,
     "metadata": {},
     "output_type": "execute_result"
    }
   ],
   "source": [
    "type(-3)\n"
   ]
  },
  {
   "cell_type": "code",
   "execution_count": 12,
   "id": "6e551186-cd03-4d37-85a5-06e9109f96a4",
   "metadata": {},
   "outputs": [
    {
     "data": {
      "text/plain": [
       "'nombre1'"
      ]
     },
     "execution_count": 12,
     "metadata": {},
     "output_type": "execute_result"
    }
   ],
   "source": [
    "x = 'nombre1'\n",
    "x"
   ]
  },
  {
   "cell_type": "code",
   "execution_count": 13,
   "id": "cc72f27b-f35e-42e5-8c36-623717af516d",
   "metadata": {},
   "outputs": [
    {
     "data": {
      "text/plain": [
       "str"
      ]
     },
     "execution_count": 13,
     "metadata": {},
     "output_type": "execute_result"
    }
   ],
   "source": [
    "type (x)\n"
   ]
  },
  {
   "cell_type": "code",
   "execution_count": 14,
   "id": "86c9707f-98ef-46ef-ab4e-e67f6d5b5b82",
   "metadata": {},
   "outputs": [
    {
     "data": {
      "text/plain": [
       "[1, 2, 3, 4, 5]"
      ]
     },
     "execution_count": 14,
     "metadata": {},
     "output_type": "execute_result"
    }
   ],
   "source": [
    "numbers = [1,2,3,4,5]\n",
    "numbers"
   ]
  },
  {
   "cell_type": "code",
   "execution_count": 15,
   "id": "a3b57d0b-07fc-41c9-a310-10ec0ec4ae5e",
   "metadata": {},
   "outputs": [
    {
     "data": {
      "text/plain": [
       "list"
      ]
     },
     "execution_count": 15,
     "metadata": {},
     "output_type": "execute_result"
    }
   ],
   "source": [
    "type(numbers)\n"
   ]
  },
  {
   "cell_type": "code",
   "execution_count": 16,
   "id": "7da2675e-5366-4f47-ab32-137f6997d780",
   "metadata": {},
   "outputs": [
    {
     "data": {
      "text/plain": [
       "1"
      ]
     },
     "execution_count": 16,
     "metadata": {},
     "output_type": "execute_result"
    }
   ],
   "source": [
    "numbers[0]"
   ]
  },
  {
   "cell_type": "code",
   "execution_count": 18,
   "id": "6b1815a1-2c2b-4cda-8b1e-12387b6c96e2",
   "metadata": {},
   "outputs": [
    {
     "data": {
      "text/plain": [
       "15"
      ]
     },
     "execution_count": 18,
     "metadata": {},
     "output_type": "execute_result"
    }
   ],
   "source": [
    "sum_numbers = sum(numbers)\n",
    "sum_numbers"
   ]
  },
  {
   "cell_type": "code",
   "execution_count": 19,
   "id": "49ef97e0-811f-4d5d-8f2e-e01f15929975",
   "metadata": {},
   "outputs": [
    {
     "data": {
      "text/plain": [
       "5"
      ]
     },
     "execution_count": 19,
     "metadata": {},
     "output_type": "execute_result"
    }
   ],
   "source": [
    "lenth = len(numbers)\n",
    "lenth"
   ]
  },
  {
   "cell_type": "code",
   "execution_count": 21,
   "id": "e18bc5e7-4acb-4a74-b00a-04d8fc401eee",
   "metadata": {},
   "outputs": [
    {
     "data": {
      "text/plain": [
       "3.0"
      ]
     },
     "execution_count": 21,
     "metadata": {},
     "output_type": "execute_result"
    }
   ],
   "source": [
    "promedio = sum_numbers/lenth\n",
    "promedio"
   ]
  },
  {
   "cell_type": "code",
   "execution_count": 22,
   "id": "7531fb07-fad4-42c0-9a74-076835d31b4f",
   "metadata": {},
   "outputs": [
    {
     "data": {
      "text/plain": [
       "float"
      ]
     },
     "execution_count": 22,
     "metadata": {},
     "output_type": "execute_result"
    }
   ],
   "source": [
    "type(3/5)"
   ]
  },
  {
   "cell_type": "code",
   "execution_count": 23,
   "id": "d7706044-e242-4038-a915-9889de2562b9",
   "metadata": {},
   "outputs": [
    {
     "name": "stdout",
     "output_type": "stream",
     "text": [
      "3.141592653589793\n"
     ]
    }
   ],
   "source": [
    "print(math.pi)"
   ]
  },
  {
   "cell_type": "code",
   "execution_count": 24,
   "id": "489fd50d-62b9-459f-adbd-7a04173fc7cf",
   "metadata": {},
   "outputs": [
    {
     "data": {
      "text/plain": [
       "str"
      ]
     },
     "execution_count": 24,
     "metadata": {},
     "output_type": "execute_result"
    }
   ],
   "source": [
    "type('math.pi')"
   ]
  },
  {
   "cell_type": "code",
   "execution_count": 26,
   "id": "f067a86e-1355-4cf7-a32d-ec9f255d8753",
   "metadata": {},
   "outputs": [
    {
     "data": {
      "text/plain": [
       "[3.141592653589793, 0.6, 4.0, 'nombre', True]"
      ]
     },
     "execution_count": 26,
     "metadata": {},
     "output_type": "execute_result"
    }
   ],
   "source": [
    "numbers = [math.pi, 3/5, 4.0, 'nombre', True]\n",
    "numbers"
   ]
  },
  {
   "cell_type": "code",
   "execution_count": 27,
   "id": "2eca193d-fec3-4162-8acf-013bb34ffae4",
   "metadata": {},
   "outputs": [
    {
     "data": {
      "text/plain": [
       "bool"
      ]
     },
     "execution_count": 27,
     "metadata": {},
     "output_type": "execute_result"
    }
   ],
   "source": [
    "type(True)"
   ]
  },
  {
   "cell_type": "code",
   "execution_count": 30,
   "id": "6818c944-7ebd-411f-826c-46db44c5ccf2",
   "metadata": {},
   "outputs": [
    {
     "name": "stdout",
     "output_type": "stream",
     "text": [
      "True\n"
     ]
    }
   ],
   "source": [
    "print('True')"
   ]
  },
  {
   "cell_type": "code",
   "execution_count": 31,
   "id": "1bef9fc1-5948-45ea-a35b-9d08f232a2e3",
   "metadata": {},
   "outputs": [
    {
     "data": {
      "text/plain": [
       "str"
      ]
     },
     "execution_count": 31,
     "metadata": {},
     "output_type": "execute_result"
    }
   ],
   "source": [
    "type('True')"
   ]
  },
  {
   "cell_type": "code",
   "execution_count": 32,
   "id": "3cf24f1d-3f11-4c6b-8535-7914250cc80a",
   "metadata": {},
   "outputs": [],
   "source": [
    "None"
   ]
  },
  {
   "cell_type": "code",
   "execution_count": 33,
   "id": "8c12be4d-6b5a-4f9f-a9c5-62b61eb114b6",
   "metadata": {},
   "outputs": [
    {
     "data": {
      "text/plain": [
       "NoneType"
      ]
     },
     "execution_count": 33,
     "metadata": {},
     "output_type": "execute_result"
    }
   ],
   "source": [
    "type(None)"
   ]
  },
  {
   "cell_type": "code",
   "execution_count": 34,
   "id": "5ea34d1b-a4d3-47c1-8377-acf272580065",
   "metadata": {},
   "outputs": [
    {
     "name": "stdout",
     "output_type": "stream",
     "text": [
      "6 es menor que 8\n"
     ]
    }
   ],
   "source": [
    "x = 6\n",
    "y = 8\n",
    "if x < y:\n",
    "    print('{} es menor que {}' .format(x,y))\n",
    "else:\n",
    "    print(x, 'es mayor que', y)"
   ]
  },
  {
   "cell_type": "code",
   "execution_count": 36,
   "id": "065e5062-c912-4a08-bc8e-28ecfcd16f38",
   "metadata": {},
   "outputs": [
    {
     "data": {
      "text/plain": [
       "[True, False, False, True]"
      ]
     },
     "execution_count": 36,
     "metadata": {},
     "output_type": "execute_result"
    }
   ],
   "source": [
    "unaLista = [True, 6<5, 1==3, None is None ]\n",
    "unaLista"
   ]
  },
  {
   "cell_type": "markdown",
   "id": "6efe6e67-f483-4569-a736-78b580ec009e",
   "metadata": {},
   "source": [
    "# el uso de for loop "
   ]
  },
  {
   "cell_type": "code",
   "execution_count": 37,
   "id": "f733f158-b37b-463d-ae55-b026b1d55d1d",
   "metadata": {},
   "outputs": [
    {
     "name": "stdout",
     "output_type": "stream",
     "text": [
      "True \t <class 'bool'>\n",
      "False \t <class 'bool'>\n",
      "False \t <class 'bool'>\n",
      "True \t <class 'bool'>\n"
     ]
    }
   ],
   "source": [
    "for element in unaLista: print(element, '\\t', type(element))"
   ]
  },
  {
   "cell_type": "markdown",
   "id": "446c4c13-74d3-43d5-bee5-cb81b5448300",
   "metadata": {},
   "source": [
    "# Lista "
   ]
  },
  {
   "cell_type": "code",
   "execution_count": 38,
   "id": "2db8835f-feeb-4bba-be31-f093e9404183",
   "metadata": {},
   "outputs": [
    {
     "data": {
      "text/plain": [
       "['first', 'second', 'third', 'forth', 'fifth', 'sixth']"
      ]
     },
     "execution_count": 38,
     "metadata": {},
     "output_type": "execute_result"
    }
   ],
   "source": [
    "unaLista = ['first', 'second', 'third', 'forth', 'fifth', 'sixth']\n",
    "unaLista"
   ]
  },
  {
   "cell_type": "code",
   "execution_count": 39,
   "id": "e841c817-7d9d-4f06-ba6d-9716a257ec61",
   "metadata": {},
   "outputs": [
    {
     "data": {
      "text/plain": [
       "['fifth', 'first', 'forth', 'second', 'sixth', 'third']"
      ]
     },
     "execution_count": 39,
     "metadata": {},
     "output_type": "execute_result"
    }
   ],
   "source": [
    "unaLista.sort()\n",
    "unaLista"
   ]
  },
  {
   "cell_type": "code",
   "execution_count": 40,
   "id": "bde82955-49aa-4c85-87e1-16de95cf7f5f",
   "metadata": {},
   "outputs": [
    {
     "data": {
      "text/plain": [
       "['fifth', 'first']"
      ]
     },
     "execution_count": 40,
     "metadata": {},
     "output_type": "execute_result"
    }
   ],
   "source": [
    "unaLista[:2]"
   ]
  },
  {
   "cell_type": "code",
   "execution_count": 41,
   "id": "7e30f05a-4b5c-4da5-bab8-56f9bb952834",
   "metadata": {},
   "outputs": [
    {
     "data": {
      "text/plain": [
       "['first', 'forth']"
      ]
     },
     "execution_count": 41,
     "metadata": {},
     "output_type": "execute_result"
    }
   ],
   "source": [
    "unaLista[1:3] #sin incluir elemento en la posicion 3"
   ]
  },
  {
   "cell_type": "code",
   "execution_count": 42,
   "id": "7b8512ba-7f2f-451c-be34-58867cdaa00a",
   "metadata": {},
   "outputs": [
    {
     "data": {
      "text/plain": [
       "'third'"
      ]
     },
     "execution_count": 42,
     "metadata": {},
     "output_type": "execute_result"
    }
   ],
   "source": [
    "unaLista[5]\n"
   ]
  },
  {
   "cell_type": "code",
   "execution_count": 43,
   "id": "92999899-a688-4b90-873b-4de165a59bb1",
   "metadata": {},
   "outputs": [
    {
     "data": {
      "text/plain": [
       "['third']"
      ]
     },
     "execution_count": 43,
     "metadata": {},
     "output_type": "execute_result"
    }
   ],
   "source": [
    "unaLista[-1:]"
   ]
  },
  {
   "cell_type": "code",
   "execution_count": null,
   "id": "846b9ad0-7d31-4e16-a4fb-d17a54c7de6f",
   "metadata": {},
   "outputs": [],
   "source": [
    "unaLista[-1:-3]"
   ]
  }
 ],
 "metadata": {
  "kernelspec": {
   "display_name": "Python 3 (ipykernel)",
   "language": "python",
   "name": "python3"
  },
  "language_info": {
   "codemirror_mode": {
    "name": "ipython",
    "version": 3
   },
   "file_extension": ".py",
   "mimetype": "text/x-python",
   "name": "python",
   "nbconvert_exporter": "python",
   "pygments_lexer": "ipython3",
   "version": "3.7.10"
  }
 },
 "nbformat": 4,
 "nbformat_minor": 5
}
