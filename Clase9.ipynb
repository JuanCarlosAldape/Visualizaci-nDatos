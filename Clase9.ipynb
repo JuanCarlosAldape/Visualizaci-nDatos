{
 "cells": [
  {
   "cell_type": "code",
   "execution_count": 1,
   "id": "79fe2b84-9e9a-436e-9b5d-dfdf5e53862c",
   "metadata": {},
   "outputs": [
    {
     "name": "stdout",
     "output_type": "stream",
     "text": [
      " 00_00_binder.ipynb                     Blockbusters_2019-1977.csv\n",
      " 00_00_primer_pasos.ipynb               _clase1.ipynb\n",
      " 01_01_data_types.ipynb                 Clase3.ipynb\n",
      " 01_02_read_iloc_unique_groupby.ipynb   Clase4.ipynb\n",
      " 02_00_data_wrangling.ipynb             Clase5.ipynb\n",
      " 02_01_null_display.ipynb              'countries of the world.csv'\n",
      " 02_02_basic_math.ipynb                 \u001b[0m\u001b[01;34mdatasets\u001b[0m/\n",
      "'A01411434_pres_interm (1).ipynb'       Presentación_Intermedia_A01411434.ipynb\n",
      " A01411434_pres_interm.ipynb           'Presentación Intermedia.ipynb'\n",
      " A3_A01411434.ipynb                     README.md\n",
      " A5_A01411434.ipynb                     reg_data.csv\n",
      " adult.csv                              requirements.txt\n",
      " antropometria-dataset-2.csv            Untitled.ipynb\n"
     ]
    }
   ],
   "source": [
    "%ls "
   ]
  },
  {
   "cell_type": "code",
   "execution_count": 2,
   "id": "4f0fa516-60a8-4722-9f40-dcfad5a1296e",
   "metadata": {},
   "outputs": [],
   "source": [
    "import pandas as pd"
   ]
  },
  {
   "cell_type": "code",
   "execution_count": 3,
   "id": "6d1c1544-b774-4bd2-b96b-1089d80e1152",
   "metadata": {},
   "outputs": [
    {
     "data": {
      "text/html": [
       "<div>\n",
       "<style scoped>\n",
       "    .dataframe tbody tr th:only-of-type {\n",
       "        vertical-align: middle;\n",
       "    }\n",
       "\n",
       "    .dataframe tbody tr th {\n",
       "        vertical-align: top;\n",
       "    }\n",
       "\n",
       "    .dataframe thead th {\n",
       "        text-align: right;\n",
       "    }\n",
       "</style>\n",
       "<table border=\"1\" class=\"dataframe\">\n",
       "  <thead>\n",
       "    <tr style=\"text-align: right;\">\n",
       "      <th></th>\n",
       "      <th>Gender</th>\n",
       "      <th>Salary</th>\n",
       "      <th>Age</th>\n",
       "      <th>Place</th>\n",
       "      <th>Weight</th>\n",
       "      <th>Company</th>\n",
       "      <th>Academic_degree</th>\n",
       "    </tr>\n",
       "  </thead>\n",
       "  <tbody>\n",
       "    <tr>\n",
       "      <th>0</th>\n",
       "      <td>Female</td>\n",
       "      <td>1500</td>\n",
       "      <td>33</td>\n",
       "      <td>Chicago</td>\n",
       "      <td>80.0</td>\n",
       "      <td>BMW</td>\n",
       "      <td>Bachelor</td>\n",
       "    </tr>\n",
       "    <tr>\n",
       "      <th>1</th>\n",
       "      <td>Female</td>\n",
       "      <td>1200</td>\n",
       "      <td>33</td>\n",
       "      <td>Chicago</td>\n",
       "      <td>82.5</td>\n",
       "      <td>Ford</td>\n",
       "      <td>No</td>\n",
       "    </tr>\n",
       "    <tr>\n",
       "      <th>2</th>\n",
       "      <td>Male</td>\n",
       "      <td>2200</td>\n",
       "      <td>34</td>\n",
       "      <td>New York</td>\n",
       "      <td>100.8</td>\n",
       "      <td>BMW</td>\n",
       "      <td>Bachelor</td>\n",
       "    </tr>\n",
       "    <tr>\n",
       "      <th>3</th>\n",
       "      <td>Male</td>\n",
       "      <td>2100</td>\n",
       "      <td>42</td>\n",
       "      <td>New York</td>\n",
       "      <td>90.0</td>\n",
       "      <td>BMW</td>\n",
       "      <td>Master</td>\n",
       "    </tr>\n",
       "    <tr>\n",
       "      <th>4</th>\n",
       "      <td>Female</td>\n",
       "      <td>1500</td>\n",
       "      <td>29</td>\n",
       "      <td>Chicago</td>\n",
       "      <td>67.0</td>\n",
       "      <td>Ford</td>\n",
       "      <td>Master</td>\n",
       "    </tr>\n",
       "    <tr>\n",
       "      <th>5</th>\n",
       "      <td>Female</td>\n",
       "      <td>1700</td>\n",
       "      <td>42</td>\n",
       "      <td>Washington</td>\n",
       "      <td>60.0</td>\n",
       "      <td>Ford</td>\n",
       "      <td>Master</td>\n",
       "    </tr>\n",
       "    <tr>\n",
       "      <th>6</th>\n",
       "      <td>Male</td>\n",
       "      <td>3000</td>\n",
       "      <td>50</td>\n",
       "      <td>Washington</td>\n",
       "      <td>77.0</td>\n",
       "      <td>Ford</td>\n",
       "      <td>No</td>\n",
       "    </tr>\n",
       "    <tr>\n",
       "      <th>7</th>\n",
       "      <td>Male</td>\n",
       "      <td>3000</td>\n",
       "      <td>55</td>\n",
       "      <td>Washington</td>\n",
       "      <td>77.0</td>\n",
       "      <td>Ford</td>\n",
       "      <td>Bachelor</td>\n",
       "    </tr>\n",
       "    <tr>\n",
       "      <th>8</th>\n",
       "      <td>Female</td>\n",
       "      <td>2800</td>\n",
       "      <td>31</td>\n",
       "      <td>New York</td>\n",
       "      <td>87.0</td>\n",
       "      <td>Ford</td>\n",
       "      <td>Bachelor</td>\n",
       "    </tr>\n",
       "    <tr>\n",
       "      <th>9</th>\n",
       "      <td>Male</td>\n",
       "      <td>2900</td>\n",
       "      <td>46</td>\n",
       "      <td>New York</td>\n",
       "      <td>70.0</td>\n",
       "      <td>GM</td>\n",
       "      <td>Master</td>\n",
       "    </tr>\n",
       "    <tr>\n",
       "      <th>10</th>\n",
       "      <td>Female</td>\n",
       "      <td>2780</td>\n",
       "      <td>36</td>\n",
       "      <td>Washington</td>\n",
       "      <td>57.0</td>\n",
       "      <td>BMW</td>\n",
       "      <td>No</td>\n",
       "    </tr>\n",
       "    <tr>\n",
       "      <th>11</th>\n",
       "      <td>Male</td>\n",
       "      <td>2550</td>\n",
       "      <td>48</td>\n",
       "      <td>New York</td>\n",
       "      <td>64.0</td>\n",
       "      <td>GM</td>\n",
       "      <td>Master</td>\n",
       "    </tr>\n",
       "  </tbody>\n",
       "</table>\n",
       "</div>"
      ],
      "text/plain": [
       "    Gender  Salary  Age       Place  Weight Company Academic_degree\n",
       "0   Female    1500   33     Chicago    80.0     BMW        Bachelor\n",
       "1   Female    1200   33     Chicago    82.5    Ford              No\n",
       "2     Male    2200   34    New York   100.8     BMW        Bachelor\n",
       "3     Male    2100   42    New York    90.0     BMW          Master\n",
       "4   Female    1500   29     Chicago    67.0    Ford          Master\n",
       "5   Female    1700   42  Washington    60.0    Ford          Master\n",
       "6     Male    3000   50  Washington    77.0    Ford              No\n",
       "7     Male    3000   55  Washington    77.0    Ford        Bachelor\n",
       "8   Female    2800   31    New York    87.0    Ford        Bachelor\n",
       "9     Male    2900   46    New York    70.0      GM          Master\n",
       "10  Female    2780   36  Washington    57.0     BMW              No\n",
       "11    Male    2550   48    New York    64.0      GM          Master"
      ]
     },
     "execution_count": 3,
     "metadata": {},
     "output_type": "execute_result"
    }
   ],
   "source": [
    "df = pd.read_csv('reg_data.csv')\n",
    "df"
   ]
  },
  {
   "cell_type": "markdown",
   "id": "5dcd8d23-44b8-4b41-a510-b1cfcaaf55c5",
   "metadata": {},
   "source": [
    "# Introduccion\n",
    "\n",
    "Esta es una base de datos que explica el salario de 12 personas desde diferentes empresas\n",
    "\n",
    "# Mis variables de interes\n",
    "\n",
    "* 'Gender',\n",
    "* 'Salary',\n",
    "* 'Age',\n",
    "* 'Academic_degree',"
   ]
  },
  {
   "cell_type": "markdown",
   "id": "8447dc47-500a-4d2e-9595-2865bc4058f1",
   "metadata": {},
   "source": [
    "# 1. Pregunta de investigación 1:\n",
    "\n",
    "### Cual es el impacto de Age en Salary\n",
    "\n",
    "Salary = b0 + b1*Age"
   ]
  },
  {
   "cell_type": "code",
   "execution_count": 5,
   "id": "7365cfe7-3c71-43f8-80b7-e3380b042536",
   "metadata": {},
   "outputs": [
    {
     "name": "stdout",
     "output_type": "stream",
     "text": [
      "Collecting seaborn\n",
      "  Downloading seaborn-0.11.2-py3-none-any.whl (292 kB)\n",
      "     |████████████████████████████████| 292 kB 4.3 MB/s            \n",
      "\u001b[?25hRequirement already satisfied: pandas>=0.23 in /srv/conda/envs/notebook/lib/python3.7/site-packages (from seaborn) (1.0.4)\n",
      "Requirement already satisfied: matplotlib>=2.2 in /srv/conda/envs/notebook/lib/python3.7/site-packages (from seaborn) (3.2.1)\n",
      "Requirement already satisfied: numpy>=1.15 in /srv/conda/envs/notebook/lib/python3.7/site-packages (from seaborn) (1.18.5)\n",
      "Requirement already satisfied: scipy>=1.0 in /srv/conda/envs/notebook/lib/python3.7/site-packages (from seaborn) (1.4.1)\n",
      "Requirement already satisfied: cycler>=0.10 in /srv/conda/envs/notebook/lib/python3.7/site-packages (from matplotlib>=2.2->seaborn) (0.10.0)\n",
      "Requirement already satisfied: kiwisolver>=1.0.1 in /srv/conda/envs/notebook/lib/python3.7/site-packages (from matplotlib>=2.2->seaborn) (1.2.0)\n",
      "Requirement already satisfied: python-dateutil>=2.1 in /srv/conda/envs/notebook/lib/python3.7/site-packages (from matplotlib>=2.2->seaborn) (2.8.1)\n",
      "Requirement already satisfied: pyparsing!=2.0.4,!=2.1.2,!=2.1.6,>=2.0.1 in /srv/conda/envs/notebook/lib/python3.7/site-packages (from matplotlib>=2.2->seaborn) (2.4.7)\n",
      "Requirement already satisfied: pytz>=2017.2 in /srv/conda/envs/notebook/lib/python3.7/site-packages (from pandas>=0.23->seaborn) (2020.1)\n",
      "Requirement already satisfied: six in /srv/conda/envs/notebook/lib/python3.7/site-packages (from cycler>=0.10->matplotlib>=2.2->seaborn) (1.16.0)\n",
      "Installing collected packages: seaborn\n",
      "Successfully installed seaborn-0.11.2\n",
      "Note: you may need to restart the kernel to use updated packages.\n"
     ]
    }
   ],
   "source": [
    "pip install seaborn"
   ]
  },
  {
   "cell_type": "code",
   "execution_count": 6,
   "id": "4684ec60-164e-481d-991c-0bc97993dfe3",
   "metadata": {},
   "outputs": [
    {
     "name": "stdout",
     "output_type": "stream",
     "text": [
      "Collecting sklearn\n",
      "  Downloading sklearn-0.0.tar.gz (1.1 kB)\n",
      "  Preparing metadata (setup.py) ... \u001b[?25ldone\n",
      "\u001b[?25hCollecting scikit-learn\n",
      "  Downloading scikit_learn-1.0.1-cp37-cp37m-manylinux_2_12_x86_64.manylinux2010_x86_64.whl (23.2 MB)\n",
      "     |████████████████████████████████| 23.2 MB 4.6 MB/s            \n",
      "\u001b[?25hRequirement already satisfied: scipy>=1.1.0 in /srv/conda/envs/notebook/lib/python3.7/site-packages (from scikit-learn->sklearn) (1.4.1)\n",
      "Collecting joblib>=0.11\n",
      "  Downloading joblib-1.1.0-py2.py3-none-any.whl (306 kB)\n",
      "     |████████████████████████████████| 306 kB 75.3 MB/s            \n",
      "\u001b[?25hRequirement already satisfied: numpy>=1.14.6 in /srv/conda/envs/notebook/lib/python3.7/site-packages (from scikit-learn->sklearn) (1.18.5)\n",
      "Collecting threadpoolctl>=2.0.0\n",
      "  Downloading threadpoolctl-3.0.0-py3-none-any.whl (14 kB)\n",
      "Building wheels for collected packages: sklearn\n",
      "  Building wheel for sklearn (setup.py) ... \u001b[?25ldone\n",
      "\u001b[?25h  Created wheel for sklearn: filename=sklearn-0.0-py2.py3-none-any.whl size=1309 sha256=686655bb058a018bc55892f06a46cab472275f269237f72f2d2667ebf7b93f9f\n",
      "  Stored in directory: /home/jovyan/.cache/pip/wheels/46/ef/c3/157e41f5ee1372d1be90b09f74f82b10e391eaacca8f22d33e\n",
      "Successfully built sklearn\n",
      "Installing collected packages: threadpoolctl, joblib, scikit-learn, sklearn\n",
      "Successfully installed joblib-1.1.0 scikit-learn-1.0.1 sklearn-0.0 threadpoolctl-3.0.0\n",
      "Note: you may need to restart the kernel to use updated packages.\n"
     ]
    }
   ],
   "source": [
    "pip install sklearn"
   ]
  },
  {
   "cell_type": "code",
   "execution_count": 7,
   "id": "a2aa65f0-61c0-4350-b749-7f9ac89975e1",
   "metadata": {},
   "outputs": [
    {
     "name": "stdout",
     "output_type": "stream",
     "text": [
      "Collecting statsmodels\n",
      "  Downloading statsmodels-0.13.1-cp37-cp37m-manylinux_2_17_x86_64.manylinux2014_x86_64.whl (9.8 MB)\n",
      "     |████████████████████████████████| 9.8 MB 4.7 MB/s            \n",
      "\u001b[?25hRequirement already satisfied: scipy>=1.3 in /srv/conda/envs/notebook/lib/python3.7/site-packages (from statsmodels) (1.4.1)\n",
      "Requirement already satisfied: numpy>=1.17 in /srv/conda/envs/notebook/lib/python3.7/site-packages (from statsmodels) (1.18.5)\n",
      "Collecting patsy>=0.5.2\n",
      "  Downloading patsy-0.5.2-py2.py3-none-any.whl (233 kB)\n",
      "     |████████████████████████████████| 233 kB 53.8 MB/s            \n",
      "\u001b[?25hRequirement already satisfied: pandas>=0.25 in /srv/conda/envs/notebook/lib/python3.7/site-packages (from statsmodels) (1.0.4)\n",
      "Requirement already satisfied: python-dateutil>=2.6.1 in /srv/conda/envs/notebook/lib/python3.7/site-packages (from pandas>=0.25->statsmodels) (2.8.1)\n",
      "Requirement already satisfied: pytz>=2017.2 in /srv/conda/envs/notebook/lib/python3.7/site-packages (from pandas>=0.25->statsmodels) (2020.1)\n",
      "Requirement already satisfied: six in /srv/conda/envs/notebook/lib/python3.7/site-packages (from patsy>=0.5.2->statsmodels) (1.16.0)\n",
      "Installing collected packages: patsy, statsmodels\n",
      "Successfully installed patsy-0.5.2 statsmodels-0.13.1\n",
      "Note: you may need to restart the kernel to use updated packages.\n"
     ]
    }
   ],
   "source": [
    "pip install statsmodels"
   ]
  },
  {
   "cell_type": "code",
   "execution_count": 8,
   "id": "78bd3e22-e67c-4d8d-8fdf-75affb2a7539",
   "metadata": {},
   "outputs": [],
   "source": [
    "import matplotlib.pyplot as plt\n",
    "import seaborn as sns\n",
    "import statsmodels.api as sm\n",
    "import numpy as np\n",
    "from sklearn import linear_model"
   ]
  },
  {
   "cell_type": "code",
   "execution_count": 9,
   "id": "8ff3205a-2a09-468a-ab7f-baa8b913cd13",
   "metadata": {},
   "outputs": [
    {
     "name": "stderr",
     "output_type": "stream",
     "text": [
      "/srv/conda/envs/notebook/lib/python3.7/site-packages/scipy/stats/stats.py:1535: UserWarning: kurtosistest only valid for n>=20 ... continuing anyway, n=12\n",
      "  \"anyway, n=%i\" % int(n))\n"
     ]
    },
    {
     "data": {
      "text/html": [
       "<table class=\"simpletable\">\n",
       "<caption>OLS Regression Results</caption>\n",
       "<tr>\n",
       "  <th>Dep. Variable:</th>         <td>Salary</td>      <th>  R-squared:         </th> <td>   0.380</td>\n",
       "</tr>\n",
       "<tr>\n",
       "  <th>Model:</th>                   <td>OLS</td>       <th>  Adj. R-squared:    </th> <td>   0.319</td>\n",
       "</tr>\n",
       "<tr>\n",
       "  <th>Method:</th>             <td>Least Squares</td>  <th>  F-statistic:       </th> <td>   6.142</td>\n",
       "</tr>\n",
       "<tr>\n",
       "  <th>Date:</th>             <td>Tue, 30 Nov 2021</td> <th>  Prob (F-statistic):</th>  <td>0.0326</td> \n",
       "</tr>\n",
       "<tr>\n",
       "  <th>Time:</th>                 <td>16:21:31</td>     <th>  Log-Likelihood:    </th> <td> -91.514</td>\n",
       "</tr>\n",
       "<tr>\n",
       "  <th>No. Observations:</th>      <td>    12</td>      <th>  AIC:               </th> <td>   187.0</td>\n",
       "</tr>\n",
       "<tr>\n",
       "  <th>Df Residuals:</th>          <td>    10</td>      <th>  BIC:               </th> <td>   188.0</td>\n",
       "</tr>\n",
       "<tr>\n",
       "  <th>Df Model:</th>              <td>     1</td>      <th>                     </th>     <td> </td>   \n",
       "</tr>\n",
       "<tr>\n",
       "  <th>Covariance Type:</th>      <td>nonrobust</td>    <th>                     </th>     <td> </td>   \n",
       "</tr>\n",
       "</table>\n",
       "<table class=\"simpletable\">\n",
       "<tr>\n",
       "      <td></td>         <th>coef</th>     <th>std err</th>      <th>t</th>      <th>P>|t|</th>  <th>[0.025</th>    <th>0.975]</th>  \n",
       "</tr>\n",
       "<tr>\n",
       "  <th>Intercept</th> <td>  349.4458</td> <td>  790.373</td> <td>    0.442</td> <td> 0.668</td> <td>-1411.614</td> <td> 2110.506</td>\n",
       "</tr>\n",
       "<tr>\n",
       "  <th>Age</th>       <td>   48.0932</td> <td>   19.406</td> <td>    2.478</td> <td> 0.033</td> <td>    4.853</td> <td>   91.333</td>\n",
       "</tr>\n",
       "</table>\n",
       "<table class=\"simpletable\">\n",
       "<tr>\n",
       "  <th>Omnibus:</th>       <td> 0.406</td> <th>  Durbin-Watson:     </th> <td>   1.484</td>\n",
       "</tr>\n",
       "<tr>\n",
       "  <th>Prob(Omnibus):</th> <td> 0.816</td> <th>  Jarque-Bera (JB):  </th> <td>   0.479</td>\n",
       "</tr>\n",
       "<tr>\n",
       "  <th>Skew:</th>          <td> 0.321</td> <th>  Prob(JB):          </th> <td>   0.787</td>\n",
       "</tr>\n",
       "<tr>\n",
       "  <th>Kurtosis:</th>      <td> 2.261</td> <th>  Cond. No.          </th> <td>    205.</td>\n",
       "</tr>\n",
       "</table><br/><br/>Notes:<br/>[1] Standard Errors assume that the covariance matrix of the errors is correctly specified."
      ],
      "text/plain": [
       "<class 'statsmodels.iolib.summary.Summary'>\n",
       "\"\"\"\n",
       "                            OLS Regression Results                            \n",
       "==============================================================================\n",
       "Dep. Variable:                 Salary   R-squared:                       0.380\n",
       "Model:                            OLS   Adj. R-squared:                  0.319\n",
       "Method:                 Least Squares   F-statistic:                     6.142\n",
       "Date:                Tue, 30 Nov 2021   Prob (F-statistic):             0.0326\n",
       "Time:                        16:21:31   Log-Likelihood:                -91.514\n",
       "No. Observations:                  12   AIC:                             187.0\n",
       "Df Residuals:                      10   BIC:                             188.0\n",
       "Df Model:                           1                                         \n",
       "Covariance Type:            nonrobust                                         \n",
       "==============================================================================\n",
       "                 coef    std err          t      P>|t|      [0.025      0.975]\n",
       "------------------------------------------------------------------------------\n",
       "Intercept    349.4458    790.373      0.442      0.668   -1411.614    2110.506\n",
       "Age           48.0932     19.406      2.478      0.033       4.853      91.333\n",
       "==============================================================================\n",
       "Omnibus:                        0.406   Durbin-Watson:                   1.484\n",
       "Prob(Omnibus):                  0.816   Jarque-Bera (JB):                0.479\n",
       "Skew:                           0.321   Prob(JB):                        0.787\n",
       "Kurtosis:                       2.261   Cond. No.                         205.\n",
       "==============================================================================\n",
       "\n",
       "Notes:\n",
       "[1] Standard Errors assume that the covariance matrix of the errors is correctly specified.\n",
       "\"\"\""
      ]
     },
     "execution_count": 9,
     "metadata": {},
     "output_type": "execute_result"
    }
   ],
   "source": [
    "modelA = sm.OLS.from_formula('Salary ~ Age', data = df)\n",
    "resultA = modelA.fit()\n",
    "resultA.summary()"
   ]
  },
  {
   "cell_type": "markdown",
   "id": "682d8789-e673-461f-bddb-1f1e7f2598dc",
   "metadata": {},
   "source": [
    "### Observaciones:\n",
    "* Variable dependiente: Salary\n",
    "* Variable independiente: Age\n",
    "* R-squared: 0.380; por lo tanto, este modelo no es tan eficiente. Por que explica solamente el 38% del salario la variable age\n",
    "* Df Model: 1\n",
    "* intercept ...>0.05, no es estadisticamente significativo\n",
    "\n",
    "Salary = 349.4458 + 48.0932 * Age"
   ]
  },
  {
   "cell_type": "code",
   "execution_count": 10,
   "id": "c0e17211-1c75-4185-9d83-62bc7f14b040",
   "metadata": {},
   "outputs": [
    {
     "name": "stdout",
     "output_type": "stream",
     "text": [
      "Salary of a person whose age is 33: 1935.5214\n"
     ]
    },
    {
     "data": {
      "text/html": [
       "<div>\n",
       "<style scoped>\n",
       "    .dataframe tbody tr th:only-of-type {\n",
       "        vertical-align: middle;\n",
       "    }\n",
       "\n",
       "    .dataframe tbody tr th {\n",
       "        vertical-align: top;\n",
       "    }\n",
       "\n",
       "    .dataframe thead th {\n",
       "        text-align: right;\n",
       "    }\n",
       "</style>\n",
       "<table border=\"1\" class=\"dataframe\">\n",
       "  <thead>\n",
       "    <tr style=\"text-align: right;\">\n",
       "      <th></th>\n",
       "      <th>Gender</th>\n",
       "      <th>Salary</th>\n",
       "      <th>Age</th>\n",
       "      <th>Place</th>\n",
       "      <th>Weight</th>\n",
       "      <th>Company</th>\n",
       "      <th>Academic_degree</th>\n",
       "    </tr>\n",
       "  </thead>\n",
       "  <tbody>\n",
       "    <tr>\n",
       "      <th>0</th>\n",
       "      <td>Female</td>\n",
       "      <td>1500</td>\n",
       "      <td>33</td>\n",
       "      <td>Chicago</td>\n",
       "      <td>80.0</td>\n",
       "      <td>BMW</td>\n",
       "      <td>Bachelor</td>\n",
       "    </tr>\n",
       "    <tr>\n",
       "      <th>1</th>\n",
       "      <td>Female</td>\n",
       "      <td>1200</td>\n",
       "      <td>33</td>\n",
       "      <td>Chicago</td>\n",
       "      <td>82.5</td>\n",
       "      <td>Ford</td>\n",
       "      <td>No</td>\n",
       "    </tr>\n",
       "  </tbody>\n",
       "</table>\n",
       "</div>"
      ],
      "text/plain": [
       "   Gender  Salary  Age    Place  Weight Company Academic_degree\n",
       "0  Female    1500   33  Chicago    80.0     BMW        Bachelor\n",
       "1  Female    1200   33  Chicago    82.5    Ford              No"
      ]
     },
     "execution_count": 10,
     "metadata": {},
     "output_type": "execute_result"
    }
   ],
   "source": [
    "print('Salary of a person whose age is 33:', 348.4458 + 48.0932*33)\n",
    "df.iloc[:2, :]"
   ]
  },
  {
   "cell_type": "code",
   "execution_count": 11,
   "id": "238f3428-f10a-4fc3-ae68-ba9838afb563",
   "metadata": {},
   "outputs": [
    {
     "name": "stdout",
     "output_type": "stream",
     "text": [
      "Diferencia es :\t: -435.5214000000001\n",
      "Diferencia es :\t: -735.5214000000001\n"
     ]
    },
    {
     "data": {
      "text/plain": [
       "0    -436.521924\n",
       "1    -736.521924\n",
       "2     215.384860\n",
       "3    -269.360866\n",
       "4    -244.149060\n",
       "5    -669.360866\n",
       "6     245.893407\n",
       "7       5.427328\n",
       "8     959.664508\n",
       "9     338.266270\n",
       "10    699.198429\n",
       "11   -107.920161\n",
       "dtype: float64"
      ]
     },
     "execution_count": 11,
     "metadata": {},
     "output_type": "execute_result"
    }
   ],
   "source": [
    "print('Diferencia es :\\t:', 1500-1935.5214)\n",
    "print('Diferencia es :\\t:', 1200-1935.5214)\n",
    "resultA.resid"
   ]
  },
  {
   "cell_type": "code",
   "execution_count": 12,
   "id": "99905560-8be7-4acf-aecc-ad4a902cfeae",
   "metadata": {},
   "outputs": [
    {
     "data": {
      "text/plain": [
       "Text(42, 1500, 'Salary = 349.4458 + 48.0932 * Age')"
      ]
     },
     "execution_count": 12,
     "metadata": {},
     "output_type": "execute_result"
    },
    {
     "data": {
      "image/png": "[encoded data removed]",
      "text/plain": [
       "<Figure size 1080x720 with 1 Axes>"
      ]
     },
     "metadata": {
      "needs_background": "light"
     },
     "output_type": "display_data"
    }
   ],
   "source": [
    "plt.figure(figsize = (15,10))\n",
    "sns.set(font_scale = 1.7)\n",
    "\n",
    "reg_plot = sns.regplot (x = 'Age',\n",
    "             y = 'Salary',\n",
    "             data = df,\n",
    "             marker = '+',\n",
    "             color = 'green',\n",
    "            scatter_kws = {'s':200}\n",
    "            )\n",
    "reg_plot.set_title('Regression plot of Salary vs Age')\n",
    "reg_plot.text(42, 1500, 'Salary = 349.4458 + 48.0932 * Age',\n",
    "              color = 'green',\n",
    "              weight = 'semibold',\n",
    "              size = 'medium'\n",
    "             )"
   ]
  },
  {
   "cell_type": "code",
   "execution_count": 13,
   "id": "94f12400-9545-4274-9a5a-50684a23e07c",
   "metadata": {},
   "outputs": [
    {
     "data": {
      "text/plain": [
       "0    -436.521924\n",
       "1    -736.521924\n",
       "2     215.384860\n",
       "3    -269.360866\n",
       "4    -244.149060\n",
       "5    -669.360866\n",
       "6     245.893407\n",
       "7       5.427328\n",
       "8     959.664508\n",
       "9     338.266270\n",
       "10    699.198429\n",
       "11   -107.920161\n",
       "dtype: float64"
      ]
     },
     "execution_count": 13,
     "metadata": {},
     "output_type": "execute_result"
    }
   ],
   "source": [
    "RESIA =resultA.resid\n",
    "RESIA"
   ]
  },
  {
   "cell_type": "code",
   "execution_count": 14,
   "id": "a3fb1e06-362f-4c0e-8c0a-50d27b16cf0a",
   "metadata": {},
   "outputs": [
    {
     "data": {
      "image/png": "[encoded data removed]",
      "text/plain": [
       "<Figure size 432x288 with 1 Axes>"
      ]
     },
     "metadata": {},
     "output_type": "display_data"
    }
   ],
   "source": [
    "resi_plot = sns.scatterplot(x = resultA.fittedvalues,\n",
    "                            y = RESIA)"
   ]
  },
  {
   "cell_type": "code",
   "execution_count": 15,
   "id": "d1644ddc-eaca-4b1f-90ce-a388005fa60b",
   "metadata": {},
   "outputs": [
    {
     "name": "stderr",
     "output_type": "stream",
     "text": [
      "/srv/conda/envs/notebook/lib/python3.7/site-packages/scipy/stats/stats.py:1535: UserWarning: kurtosistest only valid for n>=20 ... continuing anyway, n=12\n",
      "  \"anyway, n=%i\" % int(n))\n"
     ]
    },
    {
     "data": {
      "text/html": [
       "<table class=\"simpletable\">\n",
       "<caption>OLS Regression Results</caption>\n",
       "<tr>\n",
       "  <th>Dep. Variable:</th>         <td>Salary</td>      <th>  R-squared:         </th> <td>   0.408</td>\n",
       "</tr>\n",
       "<tr>\n",
       "  <th>Model:</th>                   <td>OLS</td>       <th>  Adj. R-squared:    </th> <td>   0.276</td>\n",
       "</tr>\n",
       "<tr>\n",
       "  <th>Method:</th>             <td>Least Squares</td>  <th>  F-statistic:       </th> <td>   3.101</td>\n",
       "</tr>\n",
       "<tr>\n",
       "  <th>Date:</th>             <td>Tue, 30 Nov 2021</td> <th>  Prob (F-statistic):</th>  <td>0.0945</td> \n",
       "</tr>\n",
       "<tr>\n",
       "  <th>Time:</th>                 <td>16:23:03</td>     <th>  Log-Likelihood:    </th> <td> -91.242</td>\n",
       "</tr>\n",
       "<tr>\n",
       "  <th>No. Observations:</th>      <td>    12</td>      <th>  AIC:               </th> <td>   188.5</td>\n",
       "</tr>\n",
       "<tr>\n",
       "  <th>Df Residuals:</th>          <td>     9</td>      <th>  BIC:               </th> <td>   189.9</td>\n",
       "</tr>\n",
       "<tr>\n",
       "  <th>Df Model:</th>              <td>     2</td>      <th>                     </th>     <td> </td>   \n",
       "</tr>\n",
       "<tr>\n",
       "  <th>Covariance Type:</th>      <td>nonrobust</td>    <th>                     </th>     <td> </td>   \n",
       "</tr>\n",
       "</table>\n",
       "<table class=\"simpletable\">\n",
       "<tr>\n",
       "         <td></td>           <th>coef</th>     <th>std err</th>      <th>t</th>      <th>P>|t|</th>  <th>[0.025</th>    <th>0.975]</th>  \n",
       "</tr>\n",
       "<tr>\n",
       "  <th>Intercept</th>      <td>  749.8157</td> <td> 1023.148</td> <td>    0.733</td> <td> 0.482</td> <td>-1564.706</td> <td> 3064.337</td>\n",
       "</tr>\n",
       "<tr>\n",
       "  <th>Gender[T.Male]</th> <td>  306.7169</td> <td>  474.438</td> <td>    0.646</td> <td> 0.534</td> <td> -766.535</td> <td> 1379.969</td>\n",
       "</tr>\n",
       "<tr>\n",
       "  <th>Age</th>            <td>   34.2211</td> <td>   29.331</td> <td>    1.167</td> <td> 0.273</td> <td>  -32.130</td> <td>  100.573</td>\n",
       "</tr>\n",
       "</table>\n",
       "<table class=\"simpletable\">\n",
       "<tr>\n",
       "  <th>Omnibus:</th>       <td> 1.671</td> <th>  Durbin-Watson:     </th> <td>   1.363</td>\n",
       "</tr>\n",
       "<tr>\n",
       "  <th>Prob(Omnibus):</th> <td> 0.434</td> <th>  Jarque-Bera (JB):  </th> <td>   1.061</td>\n",
       "</tr>\n",
       "<tr>\n",
       "  <th>Skew:</th>          <td> 0.691</td> <th>  Prob(JB):          </th> <td>   0.588</td>\n",
       "</tr>\n",
       "<tr>\n",
       "  <th>Kurtosis:</th>      <td> 2.541</td> <th>  Cond. No.          </th> <td>    269.</td>\n",
       "</tr>\n",
       "</table><br/><br/>Notes:<br/>[1] Standard Errors assume that the covariance matrix of the errors is correctly specified."
      ],
      "text/plain": [
       "<class 'statsmodels.iolib.summary.Summary'>\n",
       "\"\"\"\n",
       "                            OLS Regression Results                            \n",
       "==============================================================================\n",
       "Dep. Variable:                 Salary   R-squared:                       0.408\n",
       "Model:                            OLS   Adj. R-squared:                  0.276\n",
       "Method:                 Least Squares   F-statistic:                     3.101\n",
       "Date:                Tue, 30 Nov 2021   Prob (F-statistic):             0.0945\n",
       "Time:                        16:23:03   Log-Likelihood:                -91.242\n",
       "No. Observations:                  12   AIC:                             188.5\n",
       "Df Residuals:                       9   BIC:                             189.9\n",
       "Df Model:                           2                                         \n",
       "Covariance Type:            nonrobust                                         \n",
       "==================================================================================\n",
       "                     coef    std err          t      P>|t|      [0.025      0.975]\n",
       "----------------------------------------------------------------------------------\n",
       "Intercept        749.8157   1023.148      0.733      0.482   -1564.706    3064.337\n",
       "Gender[T.Male]   306.7169    474.438      0.646      0.534    -766.535    1379.969\n",
       "Age               34.2211     29.331      1.167      0.273     -32.130     100.573\n",
       "==============================================================================\n",
       "Omnibus:                        1.671   Durbin-Watson:                   1.363\n",
       "Prob(Omnibus):                  0.434   Jarque-Bera (JB):                1.061\n",
       "Skew:                           0.691   Prob(JB):                        0.588\n",
       "Kurtosis:                       2.541   Cond. No.                         269.\n",
       "==============================================================================\n",
       "\n",
       "Notes:\n",
       "[1] Standard Errors assume that the covariance matrix of the errors is correctly specified.\n",
       "\"\"\""
      ]
     },
     "execution_count": 15,
     "metadata": {},
     "output_type": "execute_result"
    }
   ],
   "source": [
    "modelB = sm.OLS.from_formula('Salary ~ Age + Gender', data =df )\n",
    "resultB = modelB.fit()\n",
    "resultB.summary()"
   ]
  },
  {
   "cell_type": "markdown",
   "id": "6b11a1da-397f-430a-8325-ac3cd160a65c",
   "metadata": {},
   "source": [
    "### Observaciones:\n",
    "* Variable dependiente: Salary\n",
    "* Variable independiente: Age, Gender\n",
    "* R-squared: 0.408; por lo tanto, este modelo no es tan eficiente. Por que explica solamente el 38% del salario la variable age\n",
    "* Df Model: 2\n",
    "* intercept ...>0.05, no es estadisticamente significativo\n",
    "\n",
    "Salary = 749.8157 + 34.2211*Age + 306.7169*Gender_Male\n",
    "\n",
    "### Case study :\n",
    "Df Model: 2\n",
    "* Age = 33\n",
    "* Male = True"
   ]
  },
  {
   "cell_type": "code",
   "execution_count": 16,
   "id": "e0c501b5-abdc-4669-9ea2-ac2dbfb4d722",
   "metadata": {},
   "outputs": [
    {
     "name": "stdout",
     "output_type": "stream",
     "text": [
      "Salary de una persona con Age 33, Male \t 2185.8289\n"
     ]
    }
   ],
   "source": [
    "print('Salary de una persona con Age 33, Male \\t', 749.8157 + 34.2211*33 + 306.7169*1)"
   ]
  },
  {
   "cell_type": "markdown",
   "id": "b4b6d258-5792-4cb8-8fdd-6c09d8ec7e56",
   "metadata": {},
   "source": [
    "### Case study :\n",
    "Df Model: 2\n",
    "* Age = 33\n",
    "* Male = False"
   ]
  },
  {
   "cell_type": "code",
   "execution_count": 17,
   "id": "703516a1-5e93-40e9-b725-6625907dff2b",
   "metadata": {},
   "outputs": [
    {
     "name": "stdout",
     "output_type": "stream",
     "text": [
      "Salary de una persona con Age 33, female \t 1879.112\n"
     ]
    }
   ],
   "source": [
    "print('Salary de una persona con Age 33, female \\t', 749.8157 + 34.2211*33 + 306.7169*0)"
   ]
  },
  {
   "cell_type": "code",
   "execution_count": 18,
   "id": "21eede1e-5ebd-4981-b421-1fa11ee25a08",
   "metadata": {},
   "outputs": [
    {
     "name": "stderr",
     "output_type": "stream",
     "text": [
      "/srv/conda/envs/notebook/lib/python3.7/site-packages/scipy/stats/stats.py:1535: UserWarning: kurtosistest only valid for n>=20 ... continuing anyway, n=12\n",
      "  \"anyway, n=%i\" % int(n))\n"
     ]
    },
    {
     "data": {
      "text/html": [
       "<table class=\"simpletable\">\n",
       "<caption>OLS Regression Results</caption>\n",
       "<tr>\n",
       "  <th>Dep. Variable:</th>         <td>Salary</td>      <th>  R-squared:         </th> <td>   0.483</td>\n",
       "</tr>\n",
       "<tr>\n",
       "  <th>Model:</th>                   <td>OLS</td>       <th>  Adj. R-squared:    </th> <td>   0.188</td>\n",
       "</tr>\n",
       "<tr>\n",
       "  <th>Method:</th>             <td>Least Squares</td>  <th>  F-statistic:       </th> <td>   1.636</td>\n",
       "</tr>\n",
       "<tr>\n",
       "  <th>Date:</th>             <td>Tue, 30 Nov 2021</td> <th>  Prob (F-statistic):</th>  <td> 0.267</td> \n",
       "</tr>\n",
       "<tr>\n",
       "  <th>Time:</th>                 <td>16:24:06</td>     <th>  Log-Likelihood:    </th> <td> -90.426</td>\n",
       "</tr>\n",
       "<tr>\n",
       "  <th>No. Observations:</th>      <td>    12</td>      <th>  AIC:               </th> <td>   190.9</td>\n",
       "</tr>\n",
       "<tr>\n",
       "  <th>Df Residuals:</th>          <td>     7</td>      <th>  BIC:               </th> <td>   193.3</td>\n",
       "</tr>\n",
       "<tr>\n",
       "  <th>Df Model:</th>              <td>     4</td>      <th>                     </th>     <td> </td>   \n",
       "</tr>\n",
       "<tr>\n",
       "  <th>Covariance Type:</th>      <td>nonrobust</td>    <th>                     </th>     <td> </td>   \n",
       "</tr>\n",
       "</table>\n",
       "<table class=\"simpletable\">\n",
       "<tr>\n",
       "              <td></td>                 <th>coef</th>     <th>std err</th>      <th>t</th>      <th>P>|t|</th>  <th>[0.025</th>    <th>0.975]</th>  \n",
       "</tr>\n",
       "<tr>\n",
       "  <th>Intercept</th>                 <td>  815.5485</td> <td> 1086.544</td> <td>    0.751</td> <td> 0.477</td> <td>-1753.721</td> <td> 3384.818</td>\n",
       "</tr>\n",
       "<tr>\n",
       "  <th>Gender[T.Male]</th>            <td>  336.1028</td> <td>  521.798</td> <td>    0.644</td> <td> 0.540</td> <td> -897.752</td> <td> 1569.958</td>\n",
       "</tr>\n",
       "<tr>\n",
       "  <th>Academic_degree[T.Master]</th> <td> -373.1962</td> <td>  404.490</td> <td>   -0.923</td> <td> 0.387</td> <td>-1329.664</td> <td>  583.271</td>\n",
       "</tr>\n",
       "<tr>\n",
       "  <th>Academic_degree[T.No]</th>     <td>  -43.8495</td> <td>  470.054</td> <td>   -0.093</td> <td> 0.928</td> <td>-1155.350</td> <td> 1067.651</td>\n",
       "</tr>\n",
       "<tr>\n",
       "  <th>Age</th>                       <td>   36.3765</td> <td>   31.992</td> <td>    1.137</td> <td> 0.293</td> <td>  -39.272</td> <td>  112.025</td>\n",
       "</tr>\n",
       "</table>\n",
       "<table class=\"simpletable\">\n",
       "<tr>\n",
       "  <th>Omnibus:</th>       <td> 0.521</td> <th>  Durbin-Watson:     </th> <td>   0.971</td>\n",
       "</tr>\n",
       "<tr>\n",
       "  <th>Prob(Omnibus):</th> <td> 0.771</td> <th>  Jarque-Bera (JB):  </th> <td>   0.427</td>\n",
       "</tr>\n",
       "<tr>\n",
       "  <th>Skew:</th>          <td> 0.379</td> <th>  Prob(JB):          </th> <td>   0.808</td>\n",
       "</tr>\n",
       "<tr>\n",
       "  <th>Kurtosis:</th>      <td> 2.472</td> <th>  Cond. No.          </th> <td>    271.</td>\n",
       "</tr>\n",
       "</table><br/><br/>Notes:<br/>[1] Standard Errors assume that the covariance matrix of the errors is correctly specified."
      ],
      "text/plain": [
       "<class 'statsmodels.iolib.summary.Summary'>\n",
       "\"\"\"\n",
       "                            OLS Regression Results                            \n",
       "==============================================================================\n",
       "Dep. Variable:                 Salary   R-squared:                       0.483\n",
       "Model:                            OLS   Adj. R-squared:                  0.188\n",
       "Method:                 Least Squares   F-statistic:                     1.636\n",
       "Date:                Tue, 30 Nov 2021   Prob (F-statistic):              0.267\n",
       "Time:                        16:24:06   Log-Likelihood:                -90.426\n",
       "No. Observations:                  12   AIC:                             190.9\n",
       "Df Residuals:                       7   BIC:                             193.3\n",
       "Df Model:                           4                                         \n",
       "Covariance Type:            nonrobust                                         \n",
       "=============================================================================================\n",
       "                                coef    std err          t      P>|t|      [0.025      0.975]\n",
       "---------------------------------------------------------------------------------------------\n",
       "Intercept                   815.5485   1086.544      0.751      0.477   -1753.721    3384.818\n",
       "Gender[T.Male]              336.1028    521.798      0.644      0.540    -897.752    1569.958\n",
       "Academic_degree[T.Master]  -373.1962    404.490     -0.923      0.387   -1329.664     583.271\n",
       "Academic_degree[T.No]       -43.8495    470.054     -0.093      0.928   -1155.350    1067.651\n",
       "Age                          36.3765     31.992      1.137      0.293     -39.272     112.025\n",
       "==============================================================================\n",
       "Omnibus:                        0.521   Durbin-Watson:                   0.971\n",
       "Prob(Omnibus):                  0.771   Jarque-Bera (JB):                0.427\n",
       "Skew:                           0.379   Prob(JB):                        0.808\n",
       "Kurtosis:                       2.472   Cond. No.                         271.\n",
       "==============================================================================\n",
       "\n",
       "Notes:\n",
       "[1] Standard Errors assume that the covariance matrix of the errors is correctly specified.\n",
       "\"\"\""
      ]
     },
     "execution_count": 18,
     "metadata": {},
     "output_type": "execute_result"
    }
   ],
   "source": [
    "modelC = sm.OLS.from_formula('Salary ~ Age + Gender + Academic_degree', data =df )\n",
    "resultC = modelC.fit()\n",
    "resultC.summary()"
   ]
  },
  {
   "cell_type": "markdown",
   "id": "ae71d94d-f94a-4503-a5fa-c06a0809c0b0",
   "metadata": {},
   "source": [
    "### Observaciones:\n",
    "* Variable dependiente: Salary\n",
    "* Variable independiente: Age, Gender, Academic_degree\n",
    "* Df Model: 4\n",
    "* intercept ...>0.05, no es estadisticamente significativo\n",
    "\n",
    "Salary =  815.5485 + 36.3765*Age + 336.1028*Gender_Male - 373.1962*ADMaster - 43.8495*ADNo\n",
    "\n",
    "### Case study :\n",
    "* Age = 33\n",
    "* Male = True\n",
    "* ADMaster = True\n",
    "* ADNo = False"
   ]
  },
  {
   "cell_type": "markdown",
   "id": "defd885f-8b19-44ee-9b61-fdeaf8a44008",
   "metadata": {},
   "source": [
    "### Pregunta de investigación 4:\n",
    "### Cual es el impacto de Gender, Academic_degree"
   ]
  },
  {
   "cell_type": "code",
   "execution_count": 20,
   "id": "6347f927-9728-4dd8-826a-260aa95a878e",
   "metadata": {},
   "outputs": [
    {
     "name": "stderr",
     "output_type": "stream",
     "text": [
      "/srv/conda/envs/notebook/lib/python3.7/site-packages/scipy/stats/stats.py:1535: UserWarning: kurtosistest only valid for n>=20 ... continuing anyway, n=12\n",
      "  \"anyway, n=%i\" % int(n))\n"
     ]
    },
    {
     "data": {
      "text/html": [
       "<table class=\"simpletable\">\n",
       "<caption>OLS Regression Results</caption>\n",
       "<tr>\n",
       "  <th>Dep. Variable:</th>         <td>Salary</td>      <th>  R-squared:         </th> <td>   0.388</td>\n",
       "</tr>\n",
       "<tr>\n",
       "  <th>Model:</th>                   <td>OLS</td>       <th>  Adj. R-squared:    </th> <td>   0.158</td>\n",
       "</tr>\n",
       "<tr>\n",
       "  <th>Method:</th>             <td>Least Squares</td>  <th>  F-statistic:       </th> <td>   1.689</td>\n",
       "</tr>\n",
       "<tr>\n",
       "  <th>Date:</th>             <td>Tue, 30 Nov 2021</td> <th>  Prob (F-statistic):</th>  <td> 0.246</td> \n",
       "</tr>\n",
       "<tr>\n",
       "  <th>Time:</th>                 <td>16:25:16</td>     <th>  Log-Likelihood:    </th> <td> -91.443</td>\n",
       "</tr>\n",
       "<tr>\n",
       "  <th>No. Observations:</th>      <td>    12</td>      <th>  AIC:               </th> <td>   190.9</td>\n",
       "</tr>\n",
       "<tr>\n",
       "  <th>Df Residuals:</th>          <td>     8</td>      <th>  BIC:               </th> <td>   192.8</td>\n",
       "</tr>\n",
       "<tr>\n",
       "  <th>Df Model:</th>              <td>     3</td>      <th>                     </th>     <td> </td>   \n",
       "</tr>\n",
       "<tr>\n",
       "  <th>Covariance Type:</th>      <td>nonrobust</td>    <th>                     </th>     <td> </td>   \n",
       "</tr>\n",
       "</table>\n",
       "<table class=\"simpletable\">\n",
       "<tr>\n",
       "              <td></td>                 <th>coef</th>     <th>std err</th>      <th>t</th>      <th>P>|t|</th>  <th>[0.025</th>    <th>0.975]</th>  \n",
       "</tr>\n",
       "<tr>\n",
       "  <th>Intercept</th>                 <td> 1987.2093</td> <td>  350.913</td> <td>    5.663</td> <td> 0.000</td> <td> 1178.002</td> <td> 2796.416</td>\n",
       "</tr>\n",
       "<tr>\n",
       "  <th>Gender[T.Male]</th>            <td>  775.5814</td> <td>  356.912</td> <td>    2.173</td> <td> 0.062</td> <td>  -47.459</td> <td> 1598.622</td>\n",
       "</tr>\n",
       "<tr>\n",
       "  <th>Academic_degree[T.Master]</th> <td> -302.5581</td> <td>  406.942</td> <td>   -0.743</td> <td> 0.478</td> <td>-1240.969</td> <td>  635.853</td>\n",
       "</tr>\n",
       "<tr>\n",
       "  <th>Academic_degree[T.No]</th>     <td>   80.9302</td> <td>  465.356</td> <td>    0.174</td> <td> 0.866</td> <td> -992.184</td> <td> 1154.044</td>\n",
       "</tr>\n",
       "</table>\n",
       "<table class=\"simpletable\">\n",
       "<tr>\n",
       "  <th>Omnibus:</th>       <td> 0.278</td> <th>  Durbin-Watson:     </th> <td>   0.448</td>\n",
       "</tr>\n",
       "<tr>\n",
       "  <th>Prob(Omnibus):</th> <td> 0.870</td> <th>  Jarque-Bera (JB):  </th> <td>   0.426</td>\n",
       "</tr>\n",
       "<tr>\n",
       "  <th>Skew:</th>          <td>-0.000</td> <th>  Prob(JB):          </th> <td>   0.808</td>\n",
       "</tr>\n",
       "<tr>\n",
       "  <th>Kurtosis:</th>      <td> 2.077</td> <th>  Cond. No.          </th> <td>    4.33</td>\n",
       "</tr>\n",
       "</table><br/><br/>Notes:<br/>[1] Standard Errors assume that the covariance matrix of the errors is correctly specified."
      ],
      "text/plain": [
       "<class 'statsmodels.iolib.summary.Summary'>\n",
       "\"\"\"\n",
       "                            OLS Regression Results                            \n",
       "==============================================================================\n",
       "Dep. Variable:                 Salary   R-squared:                       0.388\n",
       "Model:                            OLS   Adj. R-squared:                  0.158\n",
       "Method:                 Least Squares   F-statistic:                     1.689\n",
       "Date:                Tue, 30 Nov 2021   Prob (F-statistic):              0.246\n",
       "Time:                        16:25:16   Log-Likelihood:                -91.443\n",
       "No. Observations:                  12   AIC:                             190.9\n",
       "Df Residuals:                       8   BIC:                             192.8\n",
       "Df Model:                           3                                         \n",
       "Covariance Type:            nonrobust                                         \n",
       "=============================================================================================\n",
       "                                coef    std err          t      P>|t|      [0.025      0.975]\n",
       "---------------------------------------------------------------------------------------------\n",
       "Intercept                  1987.2093    350.913      5.663      0.000    1178.002    2796.416\n",
       "Gender[T.Male]              775.5814    356.912      2.173      0.062     -47.459    1598.622\n",
       "Academic_degree[T.Master]  -302.5581    406.942     -0.743      0.478   -1240.969     635.853\n",
       "Academic_degree[T.No]        80.9302    465.356      0.174      0.866    -992.184    1154.044\n",
       "==============================================================================\n",
       "Omnibus:                        0.278   Durbin-Watson:                   0.448\n",
       "Prob(Omnibus):                  0.870   Jarque-Bera (JB):                0.426\n",
       "Skew:                          -0.000   Prob(JB):                        0.808\n",
       "Kurtosis:                       2.077   Cond. No.                         4.33\n",
       "==============================================================================\n",
       "\n",
       "Notes:\n",
       "[1] Standard Errors assume that the covariance matrix of the errors is correctly specified.\n",
       "\"\"\""
      ]
     },
     "execution_count": 20,
     "metadata": {},
     "output_type": "execute_result"
    }
   ],
   "source": [
    "modelD = sm.OLS.from_formula('Salary ~ Gender + Academic_degree', data =df )\n",
    "resultD = modelD.fit()\n",
    "resultD.summary()"
   ]
  },
  {
   "cell_type": "code",
   "execution_count": null,
   "id": "18eb5683-b309-41f6-9644-3042753fedb3",
   "metadata": {},
   "outputs": [],
   "source": []
  }
 ],
 "metadata": {
  "kernelspec": {
   "display_name": "Python 3 (ipykernel)",
   "language": "python",
   "name": "python3"
  },
  "language_info": {
   "codemirror_mode": {
    "name": "ipython",
    "version": 3
   },
   "file_extension": ".py",
   "mimetype": "text/x-python",
   "name": "python",
   "nbconvert_exporter": "python",
   "pygments_lexer": "ipython3",
   "version": "3.7.12"
  }
 },
 "nbformat": 4,
 "nbformat_minor": 5
}
